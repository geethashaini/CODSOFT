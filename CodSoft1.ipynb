{
  "nbformat": 4,
  "nbformat_minor": 0,
  "metadata": {
    "colab": {
      "provenance": []
    },
    "kernelspec": {
      "name": "python3",
      "display_name": "Python 3"
    },
    "language_info": {
      "name": "python"
    }
  },
  "cells": [
    {
      "cell_type": "markdown",
      "source": [
        "### CHATBOT  WITH  RULE-BASED  RESPONSES"
      ],
      "metadata": {
        "id": "ESFgNsNHU0e5"
      }
    },
    {
      "cell_type": "code",
      "source": [
        "!pip install responses"
      ],
      "metadata": {
        "colab": {
          "base_uri": "https://localhost:8080/"
        },
        "id": "wKZncmLbTLAF",
        "outputId": "af7e1fbf-24ae-42b0-ef14-9f603b6e3ceb"
      },
      "execution_count": null,
      "outputs": [
        {
          "output_type": "stream",
          "name": "stdout",
          "text": [
            "Requirement already satisfied: responses in /usr/local/lib/python3.10/dist-packages (0.25.2)\n",
            "Requirement already satisfied: requests<3.0,>=2.30.0 in /usr/local/lib/python3.10/dist-packages (from responses) (2.31.0)\n",
            "Requirement already satisfied: urllib3<3.0,>=1.25.10 in /usr/local/lib/python3.10/dist-packages (from responses) (2.0.7)\n",
            "Requirement already satisfied: pyyaml in /usr/local/lib/python3.10/dist-packages (from responses) (6.0.1)\n",
            "Requirement already satisfied: charset-normalizer<4,>=2 in /usr/local/lib/python3.10/dist-packages (from requests<3.0,>=2.30.0->responses) (3.3.2)\n",
            "Requirement already satisfied: idna<4,>=2.5 in /usr/local/lib/python3.10/dist-packages (from requests<3.0,>=2.30.0->responses) (3.7)\n",
            "Requirement already satisfied: certifi>=2017.4.17 in /usr/local/lib/python3.10/dist-packages (from requests<3.0,>=2.30.0->responses) (2024.6.2)\n"
          ]
        }
      ]
    },
    {
      "cell_type": "code",
      "source": [
        "import random\n",
        "import re\n",
        "\n",
        "\n",
        "R_EATING = \"I don't like eating anything because I'm a bot obviously!\"\n",
        "R_ADVICE = \"If I were you, I would go to the internet and type exactly what you wrote here!\"\n",
        "\n",
        "\n",
        "def unknown():\n",
        "    response = [\"Could you please re-phrase that? \",\n",
        "                 \"...\",\n",
        "                 \"Sounds about right.\",\n",
        "                 \"What does that mean?\"][\n",
        "        random.randrange(4)]\n",
        "    return response\n",
        "\n",
        "\n",
        "def message_probability(user_message, recognised_words, single_response=False, required_words=[]):\n",
        "    message_certainty = 0\n",
        "    has_required_words = True\n",
        "\n",
        "    for word in user_message:\n",
        "        if word in recognised_words:\n",
        "            message_certainty += 1\n",
        "\n",
        "    percentage = float(message_certainty) / float(len(recognised_words))\n",
        "\n",
        "    for word in required_words:\n",
        "        if word not in user_message:\n",
        "            has_required_words = False\n",
        "            break\n",
        "\n",
        "    if has_required_words or single_response:\n",
        "        return int(percentage * 100)\n",
        "    else:\n",
        "        return 0\n",
        "\n",
        "\n",
        "def check_all_messages(message):\n",
        "    highest_prob_list = {}\n",
        "\n",
        "    def response(bot_response, list_of_words, single_response=False, required_words=[]):\n",
        "        nonlocal highest_prob_list\n",
        "        highest_prob_list[bot_response] = message_probability(message, list_of_words, single_response, required_words)\n",
        "\n",
        "    response('Hello!', ['hello', 'hi', 'hey', 'sup', 'heyo'], single_response=True)\n",
        "    response('See you!', ['bye', 'goodbye'], single_response=True)\n",
        "    response('I\\'m doing fine, and you?', ['how', 'are', 'you', 'doing'], required_words=['how'])\n",
        "    response('You\\'re welcome!', ['thank', 'thanks'], single_response=True)\n",
        "    response('Thank you!', ['i', 'love', 'code', 'palace'], required_words=['code', 'palace'])\n",
        "\n",
        "    response(R_ADVICE, ['give', 'advice'], required_words=['advice'])\n",
        "    response(R_EATING, ['what', 'you', 'eat'], required_words=['you', 'eat'])\n",
        "\n",
        "    best_match = max(highest_prob_list, key=highest_prob_list.get)\n",
        "\n",
        "    return unknown() if highest_prob_list[best_match] < 1 else best_match\n",
        "\n",
        "\n",
        "def get_response(user_input):\n",
        "    split_message = re.split(r'\\s+|[,;?!.-]\\s*', user_input.lower())\n",
        "    response = check_all_messages(split_message)\n",
        "    return response\n",
        "\n",
        "while True:\n",
        "    user_input = input(\"You: \")\n",
        "    if user_input.lower() == \"quit\":\n",
        "        print(\"Bot: Goodbye!\")\n",
        "        break\n",
        "    else:\n",
        "        print(\"Bot: \" + get_response(user_input))\n"
      ],
      "metadata": {
        "colab": {
          "base_uri": "https://localhost:8080/"
        },
        "id": "v9vxMV-7TY9f",
        "outputId": "740b029c-2b14-435d-bfe8-dd7067ea600a"
      },
      "execution_count": null,
      "outputs": [
        {
          "output_type": "stream",
          "name": "stdout",
          "text": [
            "You: hi\n",
            "Bot: Hello!\n",
            "You: How are you?\n",
            "Bot: I'm doing fine, and you?\n",
            "You: I am good. Thanks\n",
            "Bot: You're welcome!\n",
            "You: Give me an advice?\n",
            "Bot: If I were you, I would go to the internet and type exactly what you wrote here!\n",
            "You: what do you eat?\n",
            "Bot: I don't like eating anything because I'm a bot obviously!\n",
            "You: Bye\n",
            "Bot: See you!\n",
            "You: quit\n",
            "Bot: Goodbye!\n"
          ]
        }
      ]
    },
    {
      "cell_type": "code",
      "source": [],
      "metadata": {
        "id": "H5-sjw8zUoEh"
      },
      "execution_count": null,
      "outputs": []
    }
  ]
}