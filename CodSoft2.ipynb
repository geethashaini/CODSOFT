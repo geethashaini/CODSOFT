{
  "nbformat": 4,
  "nbformat_minor": 0,
  "metadata": {
    "colab": {
      "provenance": []
    },
    "kernelspec": {
      "name": "python3",
      "display_name": "Python 3"
    },
    "language_info": {
      "name": "python"
    }
  },
  "cells": [
    {
      "cell_type": "markdown",
      "source": [
        "# **TIC-TAC-TOE AI**"
      ],
      "metadata": {
        "id": "kY5e9VKAwgUj"
      }
    },
    {
      "cell_type": "markdown",
      "source": [
        "Implement an AI agent that plays the classic game of Tic-Tac-Toe\n",
        "against a human player.\n"
      ],
      "metadata": {
        "id": "oLd_bDy4xIJM"
      }
    },
    {
      "cell_type": "code",
      "execution_count": null,
      "metadata": {
        "colab": {
          "base_uri": "https://localhost:8080/"
        },
        "id": "yc7Yee5DwbdP",
        "outputId": "2d5ffffe-d0cc-4ebd-884b-fe41bed8bd8d"
      },
      "outputs": [
        {
          "output_type": "stream",
          "name": "stdout",
          "text": [
            "-|-|-\n",
            "-|-|-\n",
            "-|-|-\n",
            "\n",
            "select your choice(0-8): 0\n",
            "X|-|-\n",
            "-|O|-\n",
            "-|-|-\n",
            "\n",
            "select your choice(0-8): 8\n",
            "X|O|-\n",
            "-|O|-\n",
            "-|-|X\n",
            "\n",
            "select your choice(0-8): 7\n",
            "X|O|-\n",
            "-|O|-\n",
            "O|X|X\n",
            "\n",
            "select your choice(0-8): 2\n",
            "X|O|X\n",
            "-|O|O\n",
            "O|X|X\n",
            "\n",
            "select your choice(0-8): 3\n",
            "X|O|X\n",
            "X|O|O\n",
            "O|X|X\n",
            "\n",
            "It's a draw!\n"
          ]
        }
      ],
      "source": [
        "import math\n",
        "board=['-']*9\n",
        "AI='O'\n",
        "YOU='X'\n",
        "def print_board(board):\n",
        "    for i in range(0,9,3):\n",
        "        print(board[i] + '|' + board[i+1] + '|' + board[i+2])\n",
        "    print()\n",
        "def check_winner(board,player):\n",
        "    winning_combinations=[\n",
        "        [0, 1, 2],[3, 4, 5],[6, 7, 8],\n",
        "        [0, 3, 6],[1, 4, 7],[2, 5, 8],\n",
        "        [0, 4, 8],[2, 4, 6]]\n",
        "    for combo in winning_combinations:\n",
        "        if all(board[i]==player for i in combo):\n",
        "            return True\n",
        "    return False\n",
        "def is_board_full(board):\n",
        "    return all(cell!='-' for cell in board)\n",
        "def minimax_alpha_beta(board,depth,alpha,beta,maximizing_player):\n",
        "    if check_winner(board,AI):\n",
        "        return 1\n",
        "    elif check_winner(board,YOU):\n",
        "        return -1\n",
        "    elif is_board_full(board):\n",
        "        return 0\n",
        "    if maximizing_player:\n",
        "        max_eval=-math.inf\n",
        "        for i in range(9):\n",
        "            if board[i]=='-':\n",
        "                board[i]=AI\n",
        "                eval=minimax_alpha_beta(board,depth+1,alpha,beta,False)\n",
        "                board[i]='-'\n",
        "                max_eval=max(max_eval,eval)\n",
        "                alpha=max(alpha,eval)\n",
        "                if beta<=alpha:\n",
        "                    break\n",
        "        return max_eval\n",
        "    else:\n",
        "        min_eval=math.inf\n",
        "        for i in range(9):\n",
        "            if board[i]=='-':\n",
        "                board[i]=YOU\n",
        "                eval=minimax_alpha_beta(board,depth+1,alpha,beta,True)\n",
        "                board[i]='-'\n",
        "                min_eval=min(min_eval,eval)\n",
        "                beta=min(beta,eval)\n",
        "                if beta<=alpha:\n",
        "                    break\n",
        "        return min_eval\n",
        "def find_best_move(board):\n",
        "    best_move=-1\n",
        "    best_eval=-math.inf\n",
        "    for i in range(9):\n",
        "        if board[i]=='-':\n",
        "            board[i]=AI\n",
        "            eval=minimax_alpha_beta(board,0,-math.inf,math.inf,False)\n",
        "            board[i]='-'\n",
        "            if eval > best_eval:\n",
        "                best_eval=eval\n",
        "                best_move=i\n",
        "    return best_move\n",
        "while True:\n",
        "    print_board(board)\n",
        "    move=int(input(\"select your choice(0-8): \"))\n",
        "    if board[move]=='-':\n",
        "        board[move]=YOU\n",
        "        if check_winner(board,YOU):\n",
        "            print_board(board)\n",
        "            print(\"You win!\")\n",
        "            break\n",
        "        elif is_board_full(board):\n",
        "            print_board(board)\n",
        "            print(\"It's a draw!\")\n",
        "            break\n",
        "        ai_move=find_best_move(board)\n",
        "        board[ai_move]=AI\n",
        "        if check_winner(board,AI):\n",
        "            print_board(board)\n",
        "            print(\"AI wins!\")\n",
        "            break\n",
        "        elif is_board_full(board):\n",
        "            print_board(board)\n",
        "            print(\"It's a draw!\")\n",
        "            break\n",
        "    else:\n",
        "        print(\"Cell already filled. Try again.\")"
      ]
    }
  ]
}